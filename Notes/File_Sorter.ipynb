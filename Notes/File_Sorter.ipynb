{
 "cells": [
  {
   "cell_type": "markdown",
   "metadata": {},
   "source": [
    "# Automatic File Sorter"
   ]
  },
  {
   "cell_type": "code",
   "execution_count": 13,
   "metadata": {},
   "outputs": [],
   "source": [
    "import os\n",
    "import shutil"
   ]
  },
  {
   "cell_type": "code",
   "execution_count": 14,
   "metadata": {},
   "outputs": [],
   "source": [
    "path = '/Users/jessepenn/Documents/DS/'"
   ]
  },
  {
   "cell_type": "code",
   "execution_count": 9,
   "metadata": {},
   "outputs": [
    {
     "data": {
      "text/plain": [
       "['SQLProject',\n",
       " 'ISLP_website.pdf',\n",
       " '.DS_Store',\n",
       " 'PracticalStatisticsforDataScientists50EssentialConceptsUsingRandPythonbyPeterBruceAndrewBrucePeterGedeck.pdf',\n",
       " 'PythonProject',\n",
       " 'AlexTheAnalyst',\n",
       " 'ISLRv2_corrected_June_2023.pdf']"
      ]
     },
     "execution_count": 9,
     "metadata": {},
     "output_type": "execute_result"
    }
   ],
   "source": [
    "os.listdir(path)"
   ]
  },
  {
   "cell_type": "code",
   "execution_count": 15,
   "metadata": {},
   "outputs": [
    {
     "data": {
      "text/plain": [
       "True"
      ]
     },
     "execution_count": 15,
     "metadata": {},
     "output_type": "execute_result"
    }
   ],
   "source": [
    "os.path.exists(path + 'PythonProject')"
   ]
  },
  {
   "cell_type": "code",
   "execution_count": 16,
   "metadata": {},
   "outputs": [],
   "source": [
    "folder_name = ['csv', 'image', 'text']\n",
    "for name in folder_name:\n",
    "    if not os.path.exists(path + name):\n",
    "        os.makedirs(path + name)"
   ]
  },
  {
   "cell_type": "code",
   "execution_count": 18,
   "metadata": {},
   "outputs": [],
   "source": [
    "file_name = os.listdir(path)"
   ]
  },
  {
   "cell_type": "code",
   "execution_count": 19,
   "metadata": {},
   "outputs": [
    {
     "name": "stdout",
     "output_type": "stream",
     "text": [
      "There are files in this path that were not moved.\n",
      "There are files in this path that were not moved.\n",
      "There are files in this path that were not moved.\n",
      "There are files in this path that were not moved.\n",
      "There are files in this path that were not moved.\n",
      "There are files in this path that were not moved.\n",
      "There are files in this path that were not moved.\n",
      "There are files in this path that were not moved.\n",
      "There are files in this path that were not moved.\n",
      "There are files in this path that were not moved.\n"
     ]
    }
   ],
   "source": [
    "for file in file_name:\n",
    "    if '.csv' in file and not os.path.exists(path + 'csv/' + file):\n",
    "        shutil.move(path + file, path + 'csv/' + file)\n",
    "    elif '.txt' in file and not os.path.exists(path + 'csv/' + file):\n",
    "        shutil.move(path + file, path + 'text/' + file)\n",
    "    elif '.png' in file and not os.path.exists(path + 'csv/' + file):\n",
    "        shutil.move(path + file, path + 'image/' + file)\n",
    "    else:\n",
    "        print('There are files in this path that were not moved.')"
   ]
  }
 ],
 "metadata": {
  "kernelspec": {
   "display_name": "project",
   "language": "python",
   "name": "python3"
  },
  "language_info": {
   "codemirror_mode": {
    "name": "ipython",
    "version": 3
   },
   "file_extension": ".py",
   "mimetype": "text/x-python",
   "name": "python",
   "nbconvert_exporter": "python",
   "pygments_lexer": "ipython3",
   "version": "3.12.1"
  }
 },
 "nbformat": 4,
 "nbformat_minor": 2
}
